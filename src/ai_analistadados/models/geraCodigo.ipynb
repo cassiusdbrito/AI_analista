{
 "cells": [
  {
   "cell_type": "code",
   "execution_count": 5,
   "metadata": {},
   "outputs": [
    {
     "data": {
      "application/vnd.jupyter.widget-view+json": {
       "model_id": "16b410b02cda4675ade9efa4f81b251a",
       "version_major": 2,
       "version_minor": 0
      },
      "text/plain": [
       "Loading checkpoint shards:   0%|          | 0/2 [00:00<?, ?it/s]"
      ]
     },
     "metadata": {},
     "output_type": "display_data"
    }
   ],
   "source": [
    "\n",
    "from transformers import AutoModelForCausalLM, AutoTokenizer\n",
    "import torch\n",
    "\n",
    "# Carregar o modelo CodeLlama (ou outro modelo de geração de código)\n",
    "MODEL_NAME = \"codellama/CodeLlama-7b-hf\"\n",
    "tokenizer = AutoTokenizer.from_pretrained(MODEL_NAME)\n",
    "model = AutoModelForCausalLM.from_pretrained(MODEL_NAME, torch_dtype=torch.float16)\n",
    "\n",
    "def gerar_codigo(pergunta):\n",
    "    prompt = f\"### Pergunta:\\n{pergunta}\\n\\n### Código:\\n\"\n",
    "    \n",
    "    # Tokenizar a entrada\n",
    "    inputs = tokenizer(prompt, return_tensors=\"pt\").to(\"cpu\")\n",
    "\n",
    "    # Gerar a resposta\n",
    "    output = model.generate(**inputs, max_length=100, temperature=0.3, do_sample=True)\n",
    "\n",
    "\n",
    "    # Decodificar a saída\n",
    "    codigo_gerado = tokenizer.decode(output[0], skip_special_tokens=True)\n",
    "    \n",
    "    # Remover o prompt da resposta final\n",
    "    return codigo_gerado.replace(prompt, \"\").strip()\n",
    "\n",
    "\n"
   ]
  },
  {
   "cell_type": "code",
   "execution_count": null,
   "metadata": {
    "scrolled": true
   },
   "outputs": [
    {
     "name": "stdin",
     "output_type": "stream",
     "text": [
      "Digite sua pergunta:  a partir de um arquivo csv, gere uma gráfico de linhas que aborda todas as colunas numéricas, utilizando matplotlib e seaborn\n"
     ]
    },
    {
     "name": "stderr",
     "output_type": "stream",
     "text": [
      "Setting `pad_token_id` to `eos_token_id`:2 for open-end generation.\n"
     ]
    }
   ],
   "source": [
    "pergunta = input(\"Digite sua pergunta: \")\n",
    "codigo = gerar_codigo(pergunta)\n",
    "print(\"\\nCódigo Gerado:\\n\")\n",
    "print(codigo)"
   ]
  },
  {
   "cell_type": "code",
   "execution_count": 4,
   "metadata": {},
   "outputs": [
    {
     "name": "stderr",
     "output_type": "stream",
     "text": [
      "No model was supplied, defaulted to distilbert/distilbert-base-uncased-finetuned-sst-2-english and revision 714eb0f (https://huggingface.co/distilbert/distilbert-base-uncased-finetuned-sst-2-english).\n",
      "Using a pipeline without specifying a model name and revision in production is not recommended.\n",
      "Device set to use cpu\n"
     ]
    },
    {
     "data": {
      "text/plain": [
       "[{'label': 'POSITIVE', 'score': 0.9598049521446228}]"
      ]
     },
     "execution_count": 4,
     "metadata": {},
     "output_type": "execute_result"
    }
   ],
   "source": [
    "from transformers import pipeline\n",
    "\n",
    "classifier = pipeline(\"sentiment-analysis\")\n",
    "classifier(\"I've been waiting for a HuggingFace course my whole life.\")"
   ]
  }
 ],
 "metadata": {
  "kernelspec": {
   "display_name": "ai-analistadados-icwW8nBb-py3.11",
   "language": "python",
   "name": "ai-analistadados-icww8nbb-py3.11"
  },
  "language_info": {
   "codemirror_mode": {
    "name": "ipython",
    "version": 3
   },
   "file_extension": ".py",
   "mimetype": "text/x-python",
   "name": "python",
   "nbconvert_exporter": "python",
   "pygments_lexer": "ipython3",
   "version": "3.11.9"
  }
 },
 "nbformat": 4,
 "nbformat_minor": 4
}
